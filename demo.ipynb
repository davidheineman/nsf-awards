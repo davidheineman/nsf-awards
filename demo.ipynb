version https://git-lfs.github.com/spec/v1
oid sha256:5e62b0a7599b3ee237e6a99b53a45fd58cf38967a68628196c79006c3b3eef50
size 123077
